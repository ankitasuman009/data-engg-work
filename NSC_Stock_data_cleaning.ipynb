{
 "cells": [
  {
   "cell_type": "code",
   "execution_count": 11,
   "metadata": {},
   "outputs": [],
   "source": [
    "import pandas as pd\n",
    "import matplotlib.pyplot as plt"
   ]
  },
  {
   "cell_type": "code",
   "execution_count": 14,
   "metadata": {},
   "outputs": [],
   "source": [
    "df = pd.read_csv(\"DIRTY_DATA_NSE.csv\")"
   ]
  },
  {
   "cell_type": "code",
   "execution_count": 15,
   "metadata": {},
   "outputs": [
    {
     "data": {
      "text/html": [
       "<div>\n",
       "<style scoped>\n",
       "    .dataframe tbody tr th:only-of-type {\n",
       "        vertical-align: middle;\n",
       "    }\n",
       "\n",
       "    .dataframe tbody tr th {\n",
       "        vertical-align: top;\n",
       "    }\n",
       "\n",
       "    .dataframe thead th {\n",
       "        text-align: right;\n",
       "    }\n",
       "</style>\n",
       "<table border=\"1\" class=\"dataframe\">\n",
       "  <thead>\n",
       "    <tr style=\"text-align: right;\">\n",
       "      <th></th>\n",
       "      <th>SYMBOL</th>\n",
       "      <th>SERIES</th>\n",
       "      <th>OPEN</th>\n",
       "      <th>HIGH</th>\n",
       "      <th>LOW</th>\n",
       "      <th>CLOSE</th>\n",
       "      <th>LAST</th>\n",
       "      <th>PREVCLOSE</th>\n",
       "      <th>TOTTRDQTY</th>\n",
       "      <th>TOTTRDVAL</th>\n",
       "      <th>TIMESTAMP</th>\n",
       "      <th>TOTALTRADES</th>\n",
       "      <th>ISIN</th>\n",
       "    </tr>\n",
       "  </thead>\n",
       "  <tbody>\n",
       "    <tr>\n",
       "      <th>0</th>\n",
       "      <td>20MICRONS</td>\n",
       "      <td>EQ</td>\n",
       "      <td>37.80</td>\n",
       "      <td>37.80</td>\n",
       "      <td>36.15</td>\n",
       "      <td>36.85</td>\n",
       "      <td>37.40</td>\n",
       "      <td>37.05</td>\n",
       "      <td>27130</td>\n",
       "      <td>994657.90</td>\n",
       "      <td>2017-06-28</td>\n",
       "      <td>202</td>\n",
       "      <td>INE144J01027</td>\n",
       "    </tr>\n",
       "    <tr>\n",
       "      <th>1</th>\n",
       "      <td>3IINFOTECH</td>\n",
       "      <td>EQ</td>\n",
       "      <td>4.10</td>\n",
       "      <td>4.85</td>\n",
       "      <td>4.00</td>\n",
       "      <td>4.55</td>\n",
       "      <td>4.65</td>\n",
       "      <td>4.05</td>\n",
       "      <td>20157058</td>\n",
       "      <td>92148517.65</td>\n",
       "      <td>2017-06-28</td>\n",
       "      <td>7353</td>\n",
       "      <td>INE748C01020</td>\n",
       "    </tr>\n",
       "    <tr>\n",
       "      <th>2</th>\n",
       "      <td>3MINDIA</td>\n",
       "      <td>EQ</td>\n",
       "      <td>13425.15</td>\n",
       "      <td>13469.55</td>\n",
       "      <td>12920.00</td>\n",
       "      <td>13266.70</td>\n",
       "      <td>13300.00</td>\n",
       "      <td>13460.55</td>\n",
       "      <td>2290</td>\n",
       "      <td>30304923.35</td>\n",
       "      <td>2017-06-28</td>\n",
       "      <td>748</td>\n",
       "      <td>INE470A01017</td>\n",
       "    </tr>\n",
       "    <tr>\n",
       "      <th>3</th>\n",
       "      <td>63MOONS</td>\n",
       "      <td>EQ</td>\n",
       "      <td>61.00</td>\n",
       "      <td>61.90</td>\n",
       "      <td>NaN</td>\n",
       "      <td>61.00</td>\n",
       "      <td>61.10</td>\n",
       "      <td>60.65</td>\n",
       "      <td>27701</td>\n",
       "      <td>1689421.00</td>\n",
       "      <td>2017-06-28</td>\n",
       "      <td>437</td>\n",
       "      <td>INE111B01023</td>\n",
       "    </tr>\n",
       "    <tr>\n",
       "      <th>4</th>\n",
       "      <td>8KMILES</td>\n",
       "      <td>EQ</td>\n",
       "      <td>546.10</td>\n",
       "      <td>548.00</td>\n",
       "      <td>535.00</td>\n",
       "      <td>537.45</td>\n",
       "      <td>535.20</td>\n",
       "      <td>547.45</td>\n",
       "      <td>79722</td>\n",
       "      <td>43208620.05</td>\n",
       "      <td>2017-06-28</td>\n",
       "      <td>1866</td>\n",
       "      <td>INE650K01021</td>\n",
       "    </tr>\n",
       "  </tbody>\n",
       "</table>\n",
       "</div>"
      ],
      "text/plain": [
       "       SYMBOL SERIES      OPEN      HIGH       LOW     CLOSE      LAST  \\\n",
       "0   20MICRONS     EQ     37.80     37.80     36.15     36.85     37.40   \n",
       "1  3IINFOTECH     EQ      4.10      4.85      4.00      4.55      4.65   \n",
       "2     3MINDIA     EQ  13425.15  13469.55  12920.00  13266.70  13300.00   \n",
       "3     63MOONS     EQ     61.00     61.90       NaN     61.00     61.10   \n",
       "4     8KMILES     EQ    546.10    548.00    535.00    537.45    535.20   \n",
       "\n",
       "   PREVCLOSE  TOTTRDQTY    TOTTRDVAL   TIMESTAMP  TOTALTRADES          ISIN  \n",
       "0      37.05      27130    994657.90  2017-06-28          202  INE144J01027  \n",
       "1       4.05   20157058  92148517.65  2017-06-28         7353  INE748C01020  \n",
       "2   13460.55       2290  30304923.35  2017-06-28          748  INE470A01017  \n",
       "3      60.65      27701   1689421.00  2017-06-28          437  INE111B01023  \n",
       "4     547.45      79722  43208620.05  2017-06-28         1866  INE650K01021  "
      ]
     },
     "execution_count": 15,
     "metadata": {},
     "output_type": "execute_result"
    }
   ],
   "source": [
    "df.head()"
   ]
  },
  {
   "cell_type": "code",
   "execution_count": 17,
   "metadata": {},
   "outputs": [
    {
     "data": {
      "text/plain": [
       "(846404, 13)"
      ]
     },
     "execution_count": 17,
     "metadata": {},
     "output_type": "execute_result"
    }
   ],
   "source": [
    "df.shape"
   ]
  },
  {
   "cell_type": "code",
   "execution_count": 18,
   "metadata": {},
   "outputs": [
    {
     "data": {
      "text/plain": [
       "SYMBOL          object\n",
       "SERIES          object\n",
       "OPEN           float64\n",
       "HIGH           float64\n",
       "LOW            float64\n",
       "CLOSE          float64\n",
       "LAST           float64\n",
       "PREVCLOSE      float64\n",
       "TOTTRDQTY        int64\n",
       "TOTTRDVAL      float64\n",
       "TIMESTAMP       object\n",
       "TOTALTRADES      int64\n",
       "ISIN            object\n",
       "dtype: object"
      ]
     },
     "execution_count": 18,
     "metadata": {},
     "output_type": "execute_result"
    }
   ],
   "source": [
    "df.dtypes"
   ]
  },
  {
   "cell_type": "code",
   "execution_count": 19,
   "metadata": {},
   "outputs": [],
   "source": [
    "df[\"TIMESTAMP\"] = pd.to_datetime(df[\"TIMESTAMP\"])"
   ]
  },
  {
   "cell_type": "code",
   "execution_count": 20,
   "metadata": {},
   "outputs": [
    {
     "data": {
      "text/plain": [
       "SYMBOL                 object\n",
       "SERIES                 object\n",
       "OPEN                  float64\n",
       "HIGH                  float64\n",
       "LOW                   float64\n",
       "CLOSE                 float64\n",
       "LAST                  float64\n",
       "PREVCLOSE             float64\n",
       "TOTTRDQTY               int64\n",
       "TOTTRDVAL             float64\n",
       "TIMESTAMP      datetime64[ns]\n",
       "TOTALTRADES             int64\n",
       "ISIN                   object\n",
       "dtype: object"
      ]
     },
     "execution_count": 20,
     "metadata": {},
     "output_type": "execute_result"
    }
   ],
   "source": [
    "df.dtypes"
   ]
  },
  {
   "cell_type": "code",
   "execution_count": 21,
   "metadata": {},
   "outputs": [
    {
     "data": {
      "text/plain": [
       "SYMBOL             0\n",
       "SERIES             0\n",
       "OPEN           42320\n",
       "HIGH           42320\n",
       "LOW            42320\n",
       "CLOSE          42320\n",
       "LAST               0\n",
       "PREVCLOSE          0\n",
       "TOTTRDQTY          0\n",
       "TOTTRDVAL          0\n",
       "TIMESTAMP          0\n",
       "TOTALTRADES        0\n",
       "ISIN               0\n",
       "dtype: int64"
      ]
     },
     "execution_count": 21,
     "metadata": {},
     "output_type": "execute_result"
    }
   ],
   "source": [
    "df.isnull().sum()"
   ]
  },
  {
   "cell_type": "code",
   "execution_count": null,
   "metadata": {},
   "outputs": [],
   "source": [
    "df[\"SERIES\"] = df[\"SERIES\"].ffill(axis=0)"
   ]
  },
  {
   "cell_type": "code",
   "execution_count": 23,
   "metadata": {},
   "outputs": [],
   "source": [
    "df[\"OPEN\"].fillna(value=df[\"OPEN\"].mean(), inplace=True)\n",
    "df[\"HIGH\"].fillna(value=df[\"HIGH\"].mean(), inplace=True)\n",
    "df[\"LOW\"].fillna(value=df[\"LOW\"].mean(), inplace=True)\n",
    "df[\"CLOSE\"].fillna(value=df[\"CLOSE\"].mean(), inplace=True)"
   ]
  },
  {
   "cell_type": "code",
   "execution_count": 24,
   "metadata": {},
   "outputs": [
    {
     "data": {
      "text/plain": [
       "SYMBOL         0\n",
       "SERIES         0\n",
       "OPEN           0\n",
       "HIGH           0\n",
       "LOW            0\n",
       "CLOSE          0\n",
       "LAST           0\n",
       "PREVCLOSE      0\n",
       "TOTTRDQTY      0\n",
       "TOTTRDVAL      0\n",
       "TIMESTAMP      0\n",
       "TOTALTRADES    0\n",
       "ISIN           0\n",
       "dtype: int64"
      ]
     },
     "execution_count": 24,
     "metadata": {},
     "output_type": "execute_result"
    }
   ],
   "source": [
    "df.isnull().sum()"
   ]
  },
  {
   "cell_type": "code",
   "execution_count": 26,
   "metadata": {},
   "outputs": [],
   "source": [
    "df = df.set_index(df[\"TIMESTAMP\"])"
   ]
  },
  {
   "cell_type": "code",
   "execution_count": 27,
   "metadata": {},
   "outputs": [
    {
     "data": {
      "image/png": "[encoded data removed]",
      "text/plain": [
       "<Figure size 720x360 with 1 Axes>"
      ]
     },
     "metadata": {
      "needs_background": "light"
     },
     "output_type": "display_data"
    }
   ],
   "source": [
    "df.resample(\"D\").mean().plot(style=\"-o\", figsize=(10, 5));"
   ]
  },
  {
   "cell_type": "code",
   "execution_count": 28,
   "metadata": {},
   "outputs": [],
   "source": [
    "df2 = df.resample('W').apply({'OPEN': 'first',\n",
    "          'HIGH': 'max',\n",
    "          'LOW': 'min',\n",
    "          'CLOSE': 'last'})"
   ]
  },
  {
   "cell_type": "code",
   "execution_count": 29,
   "metadata": {},
   "outputs": [
    {
     "data": {
      "text/html": [
       "<div>\n",
       "<style scoped>\n",
       "    .dataframe tbody tr th:only-of-type {\n",
       "        vertical-align: middle;\n",
       "    }\n",
       "\n",
       "    .dataframe tbody tr th {\n",
       "        vertical-align: top;\n",
       "    }\n",
       "\n",
       "    .dataframe thead th {\n",
       "        text-align: right;\n",
       "    }\n",
       "</style>\n",
       "<table border=\"1\" class=\"dataframe\">\n",
       "  <thead>\n",
       "    <tr style=\"text-align: right;\">\n",
       "      <th></th>\n",
       "      <th>OPEN</th>\n",
       "      <th>HIGH</th>\n",
       "      <th>LOW</th>\n",
       "      <th>CLOSE</th>\n",
       "    </tr>\n",
       "    <tr>\n",
       "      <th>TIMESTAMP</th>\n",
       "      <th></th>\n",
       "      <th></th>\n",
       "      <th></th>\n",
       "      <th></th>\n",
       "    </tr>\n",
       "  </thead>\n",
       "  <tbody>\n",
       "    <tr>\n",
       "      <th>2016-01-03</th>\n",
       "      <td>36.00</td>\n",
       "      <td>41424.65</td>\n",
       "      <td>0.05</td>\n",
       "      <td>561.102492</td>\n",
       "    </tr>\n",
       "    <tr>\n",
       "      <th>2016-01-10</th>\n",
       "      <td>35.55</td>\n",
       "      <td>41200.05</td>\n",
       "      <td>0.05</td>\n",
       "      <td>5.550000</td>\n",
       "    </tr>\n",
       "    <tr>\n",
       "      <th>2016-01-17</th>\n",
       "      <td>34.90</td>\n",
       "      <td>39233.55</td>\n",
       "      <td>0.05</td>\n",
       "      <td>6.950000</td>\n",
       "    </tr>\n",
       "    <tr>\n",
       "      <th>2016-01-24</th>\n",
       "      <td>29.80</td>\n",
       "      <td>37950.00</td>\n",
       "      <td>0.05</td>\n",
       "      <td>5.950000</td>\n",
       "    </tr>\n",
       "    <tr>\n",
       "      <th>2016-01-31</th>\n",
       "      <td>27.25</td>\n",
       "      <td>38198.95</td>\n",
       "      <td>0.05</td>\n",
       "      <td>4.950000</td>\n",
       "    </tr>\n",
       "  </tbody>\n",
       "</table>\n",
       "</div>"
      ],
      "text/plain": [
       "             OPEN      HIGH   LOW       CLOSE\n",
       "TIMESTAMP                                    \n",
       "2016-01-03  36.00  41424.65  0.05  561.102492\n",
       "2016-01-10  35.55  41200.05  0.05    5.550000\n",
       "2016-01-17  34.90  39233.55  0.05    6.950000\n",
       "2016-01-24  29.80  37950.00  0.05    5.950000\n",
       "2016-01-31  27.25  38198.95  0.05    4.950000"
      ]
     },
     "execution_count": 29,
     "metadata": {},
     "output_type": "execute_result"
    }
   ],
   "source": [
    "df2.head()"
   ]
  },
  {
   "cell_type": "code",
   "execution_count": null,
   "metadata": {},
   "outputs": [],
   "source": []
  }
 ],
 "metadata": {
  "kernelspec": {
   "display_name": "Python 3",
   "language": "python",
   "name": "python3"
  },
  "language_info": {
   "codemirror_mode": {
    "name": "ipython",
    "version": 3
   },
   "file_extension": ".py",
   "mimetype": "text/x-python",
   "name": "python",
   "nbconvert_exporter": "python",
   "pygments_lexer": "ipython3",
   "version": "3.7.6"
  }
 },
 "nbformat": 4,
 "nbformat_minor": 4
}
